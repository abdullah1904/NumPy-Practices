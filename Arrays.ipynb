{
 "cells": [
  {
   "cell_type": "markdown",
   "metadata": {},
   "source": [
    "<h1 align=\"center\">NumPy Practices</h1>\n",
    "<h2>NumPy Arrays</h2>\n",
    "<h3>Introduction:</h3>\n",
    "<p>Welcome to the NumPy Arrays! This chapter sets the stage for your journey by introducing you to the fundamental concept of NumPy Arrays.</p>\n",
    "<p>Imagine a collection of items, all neatly arranged in rows and columns, just like a spreadsheet. This organized structure is what we call a multi-dimensional array in NumPy. Unlike Python lists that can hold different data types like numbers and strings mixed together, <u>NumPy arrays are special because they store elements of the same data type</u>. This allows for efficient storage and lightning-fast operations specifically designed for numerical computing.</p>\n",
    "<h3>NumPy Arrays V/S Python Lists:</h3>\n",
    "<p>While both Python lists and NumPy arrays can hold things, While Python lists are versatile for various tasks NumPy arrays offer distinct advantages when dealing with numbers:</p>\n",
    "<ol>\n",
    "    <li><b>Speed:</b> NumPy arrays are like sprinters in the world of data. They leverage optimized code under the hood, making calculations significantly faster than regular Python lists, especially for large datasets.</li>\n",
    "    <li><b>Efficiency:</b> NumPy arrays store data more compactly, consuming less memory compared to lists with mixed data types. This is crucial when working with massive amounts of numerical data.</li>\n",
    "    <li><b>Vectorized Operations:</b> This is NumPy's secret weapon! Instead of looping through each element in a list, NumPy allows you to perform operations on entire arrays at once. Imagine multiplying every element in two arrays with a single line of code!</li>\n",
    "    <li><b>Space Saver:</b> NumPy arrays store data more compactly, taking up less memory compared to bags that hold various types of items. This becomes crucial when you have a workshop full of toolboxes, each efficiently storing its specific tools.</li>\n",
    "</ol>\n",
    "<h3>Type of NumPy Arrays:</h3>\n",
    "<ul>\n",
    "    <li>One Dimensional Arrays</li>\n",
    "    <li>Two Dimensional Arrays</li>\n",
    "    <li>Three Dimensional Arrays</li>\n",
    "    <li>Higher Dimensional Arrays</li>\n",
    "</ul>\n",
    "<h3>Creating NumPy Arrays:</h3>\n",
    "<p>There are various ways to create a NumPy Arrays:</p>\n",
    "<ol>\n",
    "    <li><b>Passing List to Array Function:</b> The list of elements passed directly to the NumPy array function.</li>\n",
    "</ol>\n",
    "<h4>By Passing List:</h4>\n",
    "<p>One of the simplest ways to create NumPy arrays is by using Python lists. NumPy provides the np.array() function, which efficiently converts a Python list into a NumPy array. The np.array() function can convert any Python list containing numerical elements into a NumPy array. <u>The resulting NumPy array will have the same data type as the elements in the list</u>. For example, if the list contains integers, the array will also be of integer data type. This method is convenient when you already have your data in a Python list and want to leverage the power of NumPy arrays for further calculations and manipulations.\n",
    "</p>"
   ]
  },
  {
   "cell_type": "code",
   "execution_count": 11,
   "metadata": {},
   "outputs": [
    {
     "name": "stdout",
     "output_type": "stream",
     "text": [
      "List: [1, 2, 3, 4]\n",
      "Numpy Array: [1 2 3 4]\n",
      "Type of List1: <class 'list'>\n",
      "Type of Array1: <class 'numpy.ndarray'>\n",
      "One Dimension Array: [1 2 3 4]\n",
      "Dimensions: 1\n",
      "Two Dimension Array: [[11 12 13 14]\n",
      " [21 22 23 24]]\n",
      "Dimensions: 2\n",
      "N Dimension Array: [[[[[11 12 13 14]\n",
      "    [21 22 23 24]]]]]\n",
      "Dimensions: 5\n"
     ]
    }
   ],
   "source": [
    "# Importing Libraries\n",
    "import numpy as np \n",
    "\n",
    "# Creating Python List\n",
    "list1 = [1,2,3,4]\n",
    "\n",
    "# Creating NumPy Array from Python List\n",
    "array1 = np.array(list1)\n",
    "\n",
    "print(\"List:\",list1)\n",
    "print(\"Numpy Array:\",array1)\n",
    "print(\"Type of List1:\",type(list1))\n",
    "print(\"Type of Array1:\",type(array1))\n",
    "array1\n",
    "\n",
    "# Creating One-Dimensional Array\n",
    "oneDimensionalArray = np.array([1,2,3,4])\n",
    "print(\"One Dimension Array:\",oneDimensionalArray)\n",
    "print(\"Dimensions:\",oneDimensionalArray.ndim)\n",
    "\n",
    "# Creating Two-Dimensional Array\n",
    "twoDimensionalArray = np.array([[11,12,13,14],[21,22,23,24]])\n",
    "print(\"Two Dimension Array:\",twoDimensionalArray)\n",
    "print(\"Dimensions:\",twoDimensionalArray.ndim)\n",
    "\n",
    "# Creating N-Dimensional Array\n",
    "nDimensionalArray = np.array([[11,12,13,14],[21,22,23,24]],ndmin=5)\n",
    "print(\"N Dimension Array:\",nDimensionalArray)\n",
    "print(\"Dimensions:\",nDimensionalArray.ndim)"
   ]
  }
 ],
 "metadata": {
  "kernelspec": {
   "display_name": "Python 3",
   "language": "python",
   "name": "python3"
  },
  "language_info": {
   "codemirror_mode": {
    "name": "ipython",
    "version": 3
   },
   "file_extension": ".py",
   "mimetype": "text/x-python",
   "name": "python",
   "nbconvert_exporter": "python",
   "pygments_lexer": "ipython3",
   "version": "3.12.0"
  }
 },
 "nbformat": 4,
 "nbformat_minor": 2
}
